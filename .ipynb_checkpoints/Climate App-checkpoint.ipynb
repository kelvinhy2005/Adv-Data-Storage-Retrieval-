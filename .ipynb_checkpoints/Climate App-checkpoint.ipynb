{
 "cells": [
  {
   "cell_type": "code",
   "execution_count": null,
   "metadata": {},
   "outputs": [],
   "source": [
    "from flask import Flask, jsonify\n",
    "engine = create_engine(\"sqlite:///hawaii.sqlite\")\n",
    "conn = engine.connect()\n",
    "inspector = inspect(engine)\n",
    "Base = automap_base()\n",
    "Base.prepare(engine, reflect=True)\n",
    "Measurements = Base.classes.observations\n",
    "Stations = Base.classes.stations\n",
    "\n",
    "app = Flask(__name__)\n",
    "\n",
    "\n",
    "\n",
    "\n"
   ]
  },
  {
   "cell_type": "code",
   "execution_count": 1,
   "metadata": {},
   "outputs": [
    {
     "ename": "NameError",
     "evalue": "name 'app' is not defined",
     "output_type": "error",
     "traceback": [
      "\u001b[1;31m---------------------------------------------------------------------------\u001b[0m",
      "\u001b[1;31mNameError\u001b[0m                                 Traceback (most recent call last)",
      "\u001b[1;32m<ipython-input-1-c0fdfe8a8bb4>\u001b[0m in \u001b[0;36m<module>\u001b[1;34m()\u001b[0m\n\u001b[0;32m      1\u001b[0m \u001b[1;33m\u001b[0m\u001b[0m\n\u001b[1;32m----> 2\u001b[1;33m \u001b[1;33m@\u001b[0m\u001b[0mapp\u001b[0m\u001b[1;33m.\u001b[0m\u001b[0mroute\u001b[0m\u001b[1;33m(\u001b[0m\u001b[1;34m\"/api/v1.0/precipitation\"\u001b[0m\u001b[1;33m)\u001b[0m\u001b[1;33m\u001b[0m\u001b[0m\n\u001b[0m\u001b[0;32m      3\u001b[0m \u001b[1;32mdef\u001b[0m \u001b[0mprecipitation_analysis\u001b[0m\u001b[1;33m(\u001b[0m\u001b[1;33m)\u001b[0m\u001b[1;33m:\u001b[0m\u001b[1;33m\u001b[0m\u001b[0m\n\u001b[0;32m      4\u001b[0m     \u001b[0mresults\u001b[0m \u001b[1;33m=\u001b[0m \u001b[0msession\u001b[0m\u001b[1;33m.\u001b[0m\u001b[0mquery\u001b[0m\u001b[1;33m(\u001b[0m\u001b[0mMeasurements\u001b[0m\u001b[1;33m.\u001b[0m\u001b[0mdate\u001b[0m\u001b[1;33m,\u001b[0m\u001b[0mMeasurements\u001b[0m\u001b[1;33m.\u001b[0m\u001b[0mprcp\u001b[0m\u001b[1;33m)\u001b[0m\u001b[1;33m.\u001b[0m\u001b[0morder_by\u001b[0m\u001b[1;33m(\u001b[0m\u001b[0mMeasurements\u001b[0m\u001b[1;33m.\u001b[0m\u001b[0mdate\u001b[0m\u001b[1;33m.\u001b[0m\u001b[0masc\u001b[0m\u001b[1;33m(\u001b[0m\u001b[1;33m)\u001b[0m\u001b[1;33m)\u001b[0m\u001b[1;33m.\u001b[0m\u001b[0mall\u001b[0m\u001b[1;33m(\u001b[0m\u001b[1;33m)\u001b[0m\u001b[1;33m\u001b[0m\u001b[0m\n\u001b[0;32m      5\u001b[0m \u001b[0mresults\u001b[0m\u001b[1;33m\u001b[0m\u001b[0m\n",
      "\u001b[1;31mNameError\u001b[0m: name 'app' is not defined"
     ]
    }
   ],
   "source": [
    "\n",
    "@app.route(\"/api/v1.0/precipitation\")\n",
    "def precipitation_analysis():\n",
    "    all_precipitation =[]\n",
    "    results = session.query(Measurements.date,Measurements.prcp).order_by(Measurements.date.asc()).all()\n",
    "    for result in results:\n",
    "        precipitation_dict = {}\n",
    "        precipitation_dict['date']=Measurements.date\n",
    "        precipitation_dict['prcp']=Measurements.prcp\n",
    "        all_precipitation.append(precipitation_dict)\n",
    "    return jsonify(all_precipitation)"
   ]
  },
  {
   "cell_type": "code",
   "execution_count": null,
   "metadata": {},
   "outputs": [],
   "source": [
    "@app.route(\"/api/v1.0/stations\")\n",
    "def query_stations():\n",
    "    results = session.query(Stations.name).all()\n",
    "    all_names = list(np.ravel(results))\n",
    "    return jsonify(all_names)"
   ]
  },
  {
   "cell_type": "code",
   "execution_count": null,
   "metadata": {},
   "outputs": [],
   "source": [
    "@app.route(\"/api/v1.0/tobs\")\n",
    "def query_tobs():\n",
    "    results = session.query(Measurements.tobs).all()\n",
    "    all_tobs = list(np.ravel(results))\n",
    "    return jsonify(all_tobs)"
   ]
  },
  {
   "cell_type": "code",
   "execution_count": null,
   "metadata": {},
   "outputs": [],
   "source": [
    "@app.route(\"/api/v1.0/<start>\")\n",
    "def query_tobs_startdate():\n",
    "    tobs_list=[]\n",
    "    \n",
    "    results = session.query(Measurements.tobs).filter(Stations.station == Measurements.station,)\\\n",
    "            .filter(Measurements.date >= '2017-01-01').all()\n",
    "    for result in results:\n",
    "        tob_list.append(Measurements.tobs)\n",
    "    tob_dict={}\n",
    "    tob_dict['max_tobs']=tob_list.max()\n",
    "    tob_dict['min_tobs']=tob_list.min()\n",
    "    tob_dict['mean_tobs']=tob_list.mean()\n",
    "    tob_list_1 = []\n",
    "    tob_list_1.append(tob_dict)\n",
    "        \n",
    "    \n",
    "    print(\"The highest temperature is \" + tob_list.max())\n",
    "    print(\"The lowest temperature is \" + tob_list.min())\n",
    "    print(\"The average temperature is \" + tob_list.mean())\n",
    "        \n",
    "    return jsonify(tob_list_1)"
   ]
  },
  {
   "cell_type": "code",
   "execution_count": null,
   "metadata": {},
   "outputs": [],
   "source": [
    "@app.route(\"/api/v1.0/<start>\")\n",
    "def query_tobs_startdate():\n",
    "    tobs_list=[]\n",
    "    \n",
    "    results = session.query(Measurements.tobs).filter(Stations.station == Measurements.station,)\\\n",
    "            .filter(Measurements.date >= '2017-01-01').filter(Measurements.date<='2018-01-01').all()\n",
    "    for result in results:\n",
    "        tob_list.append(Measurements.tobs)\n",
    "    tob_dict={}\n",
    "    tob_dict['max_tobs']=tob_list.max()\n",
    "    tob_dict['min_tobs']=tob_list.min()\n",
    "    tob_dict['mean_tobs']=tob_list.mean()\n",
    "    tob_list_1 = []\n",
    "    tob_list_1.append(tob_dict)\n",
    "        \n",
    "    \n",
    "    print(\"The highest temperature is \" + tob_list.max())\n",
    "    print(\"The lowest temperature is \" + tob_list.min())\n",
    "    print(\"The average temperature is \" + tob_list.mean())\n",
    "        \n",
    "    return jsonify(tob_list_1)"
   ]
  },
  {
   "cell_type": "code",
   "execution_count": null,
   "metadata": {},
   "outputs": [],
   "source": [
    "if __name__ == '__main__':\n",
    "    app.run(debug=True)\n"
   ]
  }
 ],
 "metadata": {
  "kernelspec": {
   "display_name": "Python 3",
   "language": "python",
   "name": "python3"
  },
  "language_info": {
   "codemirror_mode": {
    "name": "ipython",
    "version": 3
   },
   "file_extension": ".py",
   "mimetype": "text/x-python",
   "name": "python",
   "nbconvert_exporter": "python",
   "pygments_lexer": "ipython3",
   "version": "3.6.4"
  }
 },
 "nbformat": 4,
 "nbformat_minor": 2
}
